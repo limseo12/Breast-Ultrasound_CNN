{
  "nbformat": 4,
  "nbformat_minor": 0,
  "metadata": {
    "colab": {
      "private_outputs": true,
      "provenance": [],
      "gpuType": "T4",
      "authorship_tag": "ABX9TyNv5JeaN4woKDS+RIixxlTu",
      "include_colab_link": true
    },
    "kernelspec": {
      "name": "python3",
      "display_name": "Python 3"
    },
    "language_info": {
      "name": "python"
    },
    "accelerator": "GPU"
  },
  "cells": [
    {
      "cell_type": "markdown",
      "metadata": {
        "id": "view-in-github",
        "colab_type": "text"
      },
      "source": [
        "<a href=\"https://colab.research.google.com/github/limseo12/Breast-Ultrasound_CNN/blob/main/Breast.ipynb\" target=\"_parent\"><img src=\"https://colab.research.google.com/assets/colab-badge.svg\" alt=\"Open In Colab\"/></a>"
      ]
    },
    {
      "cell_type": "code",
      "execution_count": null,
      "metadata": {
        "id": "6XXYfImbPfFT"
      },
      "outputs": [],
      "source": [
        "import tensorflow as tf\n",
        "from tensorflow.keras.layers import Dropout, Dense, GlobalAveragePooling2D\n",
        "from tensorflow.keras.models import Sequential\n",
        "from tensorflow.keras.preprocessing.image import ImageDataGenerator"
      ]
    },
    {
      "cell_type": "code",
      "source": [
        "from google.colab import drive\n",
        "\n",
        "drive.mount('/content/gdive/')"
      ],
      "metadata": {
        "id": "qJTTEZunQmQS"
      },
      "execution_count": null,
      "outputs": []
    },
    {
      "cell_type": "code",
      "source": [
        "import shutil\n",
        "import os\n",
        "\n",
        "try:\n",
        "  dataset_path = '/content/gdive/MyDrive/dataset'\n",
        "\n",
        "  shutil.copy(os.path.join(dataset_path, 'Breast-Ultrasound.zip'), '/content')\n",
        "\n",
        "except Exception as err:\n",
        "  print*(str(err))"
      ],
      "metadata": {
        "id": "8iljjjz4QtSL"
      },
      "execution_count": null,
      "outputs": []
    },
    {
      "cell_type": "code",
      "source": [
        "import os\n",
        "\n",
        "ROOT_DIR = '/content'\n",
        "\n",
        "DATA_ROOT_DIR = os.path.join(ROOT_DIR, 'Dataset_BUSI_with_GT')\n",
        "\n",
        "CLASSIFICATION_DATA_ROOT_DIR = os.path.join(ROOT_DIR, 'Classification')\n",
        "\n",
        "CLASSIFICATION_TRAIN_DATA_ROOT_DIR = os.path.join(CLASSIFICATION_DATA_ROOT_DIR, 'train')"
      ],
      "metadata": {
        "id": "JmhXTk_6RZBj"
      },
      "execution_count": null,
      "outputs": []
    },
    {
      "cell_type": "code",
      "source": [
        "import shutil\n",
        "\n",
        "if os.path.exists(DATA_ROOT_DIR):\n",
        "  shutil.rmtree(DATA_ROOT_DIR)\n",
        "\n",
        "if os.path.exists(CLASSIFICATION_DATA_ROOT_DIR):\n",
        "  shutil.rmtree(CLASSIFICATION_DATA_ROOT_DIR)"
      ],
      "metadata": {
        "id": "KXR6oPEiRu_n"
      },
      "execution_count": null,
      "outputs": []
    },
    {
      "cell_type": "code",
      "source": [
        "import  zipfile\n",
        "\n",
        "with zipfile.ZipFile(os.path.join(ROOT_DIR, '/content/Breast-Ultrasound.zip'), 'r') as target_file:\n",
        "\n",
        "  target_file.extractall(DATA_ROOT_DIR)"
      ],
      "metadata": {
        "id": "MP3ghm5QR99h"
      },
      "execution_count": null,
      "outputs": []
    },
    {
      "cell_type": "code",
      "source": [
        "import shutil\n",
        "import os\n",
        "import glob\n",
        "\n",
        "total_file_list = glob.glob(os.path.join(DATA_ROOT_DIR, '*'))\n",
        "\n",
        "label_name_list = [ file_name.split('/')[-1].strip() for file_name in total_file_list if os.path.isdir(file_name) == True]\n",
        "\n",
        "if not os.path.exists(CLASSIFICATION_DATA_ROOT_DIR):\n",
        "  os.mkdir(CLASSIFICATION_DATA_ROOT_DIR)\n",
        "\n",
        "for label_name in label_name_list:\n",
        "\n",
        "  src_dir_path = os.path.join(DATA_ROOT_DIR, label_name)\n",
        "  dst_dir_path = os.path.join(CLASSIFICATION_DATA_ROOT_DIR,\n",
        "                              'train' + '/' +label_name)\n",
        "  try:\n",
        "      shutil.copytree(src_dir_path, dst_dir_path)\n",
        "  except Exception as err:\n",
        "      print(str(err))\n",
        "\n",
        "train_label_name_list = os.listdir(CLASSIFICATION_TRAIN_DATA_ROOT_DIR)\n",
        "\n",
        "for label_name in train_label_name_list:\n",
        "  print('train label : ', label_name,' => ', len(os.listdir(os.path.join(CLASSIFICATION_TRAIN_DATA_ROOT_DIR, label_name))))"
      ],
      "metadata": {
        "id": "GNi_s7tnSWH2"
      },
      "execution_count": null,
      "outputs": []
    },
    {
      "cell_type": "code",
      "source": [
        "import os\n",
        "import glob\n",
        "import pandas as pd\n",
        "\n",
        "train_label_name_list = os.listdir(CLASSIFICATION_TRAIN_DATA_ROOT_DIR)\n",
        "\n",
        "for label_name in train_label_name_list:\n",
        "\n",
        "  temp_dic = {}\n",
        "\n",
        "  file_list = glob.glob(CLASSIFICATION_TRAIN_DATA_ROOT_DIR+'/'+label_name+'/*')\n",
        "\n",
        "  temp_dic[label_name] = file_list\n",
        "\n",
        "  temp_df = pd.DataFrame(temp_dic)\n",
        "\n",
        "  image_file_df = temp_df[-temp_df[label_name].str.contains('_mask')].reset_index(drop=True)\n",
        "\n",
        "  mask_file_df = temp_df[temp_df[label_name].str.contains('_mask')].reset_index(drop=True)\n",
        "\n",
        "  print('label =', label_name, ' , image = ', len(image_file_df), ' , mask = ', len(mask_file_df))\n",
        "\n",
        "  for row in range(len(mask_file_df)):\n",
        "\n",
        "      try:\n",
        "          os.remove(mask_file_df.loc[row.label_name])\n",
        "      except Exception as err:\n",
        "          print(str(err))"
      ],
      "metadata": {
        "id": "SUI-BtRDTbW3"
      },
      "execution_count": null,
      "outputs": []
    },
    {
      "cell_type": "markdown",
      "source": [
        "Preparing the Data - 학습 데이터 증강 (Data Augmentation)"
      ],
      "metadata": {
        "id": "N2lo4WSfg2RJ"
      }
    },
    {
      "cell_type": "code",
      "source": [],
      "metadata": {
        "id": "efvQluUXWQcs"
      },
      "execution_count": null,
      "outputs": []
    }
  ]
}